{
 "cells": [
  {
   "cell_type": "markdown",
   "id": "ef82ec14",
   "metadata": {},
   "source": [
    "<h1>benefits of the pipline </h1>\n",
    "1. Cleaner Code <br>\n",
    "2. Fewer Bugs <br>\n",
    "3. Easier to Productionize<br>\n",
    "4. More Options for Model Validation<br> \n"
   ]
  },
  {
   "cell_type": "code",
   "execution_count": 23,
   "id": "9a027edb",
   "metadata": {},
   "outputs": [],
   "source": [
    "import pandas as pd\n",
    "import matplotlib.pyplot as plt\n",
    "from sklearn.model_selection import train_test_split\n",
    "from sklearn.metrics import mean_absolute_error"
   ]
  },
  {
   "cell_type": "code",
   "execution_count": 24,
   "id": "8dbbd075",
   "metadata": {},
   "outputs": [],
   "source": [
    "melb_data = pd.read_csv(\"melb_data.csv\")"
   ]
  },
  {
   "cell_type": "code",
   "execution_count": 25,
   "id": "53e8ab62",
   "metadata": {},
   "outputs": [],
   "source": [
    "y=melb_data['Price']"
   ]
  },
  {
   "cell_type": "code",
   "execution_count": 26,
   "id": "3512ac17",
   "metadata": {},
   "outputs": [],
   "source": [
    "x= melb_data.drop('Price', axis = 1)"
   ]
  },
  {
   "cell_type": "code",
   "execution_count": 27,
   "id": "80c248c0",
   "metadata": {},
   "outputs": [],
   "source": [
    "X_train_full,X_valid_full, y_train,y_valid  = train_test_split(x,y, train_size = 0.8, random_state = 0)"
   ]
  },
  {
   "cell_type": "code",
   "execution_count": 28,
   "id": "9f5d3c26",
   "metadata": {},
   "outputs": [],
   "source": [
    "categorical_cols = [col for col in X_train_full.columns if X_train_full[col].nunique()< 10 and X_train_full[col].dtype == 'object' ]"
   ]
  },
  {
   "cell_type": "code",
   "execution_count": 29,
   "id": "d3303a8f",
   "metadata": {},
   "outputs": [],
   "source": [
    "numerical_cols = [col for col in X_train_full.columns if X_train_full[col].dtype == 'int64' or X_train_full[col].dtype == 'float64']"
   ]
  },
  {
   "cell_type": "code",
   "execution_count": 30,
   "id": "487521ac",
   "metadata": {},
   "outputs": [],
   "source": [
    "Col = categorical_cols + numerical_cols\n",
    "X_train=X_train_full[Col].copy()\n",
    "X_valid = X_valid_full[Col].copy()"
   ]
  },
  {
   "cell_type": "markdown",
   "id": "b7c60b89",
   "metadata": {},
   "source": [
    "<h1>the steps of constructing the full pipline</h1>\n",
    "1. Define Preprocessing Steps <br>\n",
    "2. Define the Model <br>\n",
    "3. Create and Evaluate the pipeline.<br> "
   ]
  },
  {
   "cell_type": "markdown",
   "id": "bb41c989",
   "metadata": {},
   "source": [
    "<h1>1.integrate dealing with missig value and categorical data</h1>  \n",
    "    <h2>knowledge:</h2>   ColumnTransformer / Pipline \n",
    "             \n"
   ]
  },
  {
   "cell_type": "code",
   "execution_count": 31,
   "id": "7b57c8d7",
   "metadata": {},
   "outputs": [],
   "source": [
    "from sklearn.compose import ColumnTransformer \n",
    "from sklearn.pipeline import Pipeline \n",
    "from sklearn.impute import SimpleImputer \n",
    "from sklearn.preprocessing import OneHotEncoder "
   ]
  },
  {
   "cell_type": "code",
   "execution_count": 32,
   "id": "3628f505",
   "metadata": {},
   "outputs": [],
   "source": [
    "numerical_transformer = SimpleImputer(strategy = 'constant')"
   ]
  },
  {
   "cell_type": "markdown",
   "id": "5aca04be",
   "metadata": {},
   "source": [
    "<h1>strategies </h1>\n",
    "1. mean<br>\n",
    "2. median <br>\n",
    "3. most_frequent <br>\n",
    "4. constant - used to replace missing value with fill_value. <br>  \n",
    "\n",
    "\n",
    "fill_value : str or numerical value, default = None\n",
    "default is 0 if imputing the numerical value. "
   ]
  },
  {
   "cell_type": "code",
   "execution_count": 33,
   "id": "891103f3",
   "metadata": {},
   "outputs": [],
   "source": [
    "categorical_transformer = Pipeline(\n",
    "steps=[\n",
    "    ('imputer',SimpleImputer(strategy = 'most_frequent')),\n",
    "    ('onehot',OneHotEncoder(handle_unknown= 'ignore'))\n",
    "]\n",
    ")"
   ]
  },
  {
   "cell_type": "markdown",
   "id": "daeaddd1",
   "metadata": {},
   "source": [
    "<h1>onehotencoder</h1>\n",
    "handle_unknown<br>\n",
    "1. error --  if there is unknown categorical feature, raise error<br>\n",
    "2. ignore --  unknown categorical feature would be set to all zero.<br>\n",
    "<br>\n",
    "<br>\n",
    "<h2>in this case, pipeline is used to merge preprocess, but it is used in different way as below</h2> \n",
    "\n",
    "randomForest = Pipelie([<br>\n",
    "('preprocess', categorical_transformer),<br>\n",
    "('classifier', RFC())<br>\n",
    "])\n",
    "\n",
    "this time preprocess and classfier is merged by using Pipeline."
   ]
  },
  {
   "cell_type": "code",
   "execution_count": 34,
   "id": "a3bfc2ec",
   "metadata": {},
   "outputs": [],
   "source": [
    "preprocessor = ColumnTransformer(\n",
    "transformers=[\n",
    "    ('num',numerical_transformer, numerical_cols),\n",
    "    ('cat',categorical_transformer,categorical_cols)\n",
    "]\n",
    ")"
   ]
  },
  {
   "cell_type": "markdown",
   "id": "4b8f430b",
   "metadata": {},
   "source": [
    "ColumnTransformer is used to integrate transformers, depending on columns. "
   ]
  },
  {
   "cell_type": "markdown",
   "id": "fae61e60",
   "metadata": {},
   "source": [
    "## "
   ]
  },
  {
   "cell_type": "markdown",
   "id": "2ba2e1ce",
   "metadata": {},
   "source": [
    "<h1>2.define model</h1>"
   ]
  },
  {
   "cell_type": "code",
   "execution_count": 35,
   "id": "0d7212ca",
   "metadata": {},
   "outputs": [],
   "source": [
    "from sklearn.ensemble import RandomForestRegressor\n",
    "\n",
    "model  = RandomForestRegressor(n_estimators = 100, random_state=0)"
   ]
  },
  {
   "cell_type": "markdown",
   "id": "17be7ca1",
   "metadata": {},
   "source": [
    "n_estimators ----- The number of trees in the forest"
   ]
  },
  {
   "cell_type": "markdown",
   "id": "e3bf804d",
   "metadata": {},
   "source": [
    "<h1>3.Create and Evaluate the Pipline</h1> \n",
    "<br> \n",
    "<br> \n",
    "\n",
    "<h2>With pipeine</h2> \n",
    "1.  we can  wirte preprocessing and modeling in the single line. <br>\n",
    "2.  we do not hve to preprocess the validation data in using  predict() method.<br> "
   ]
  },
  {
   "cell_type": "code",
   "execution_count": 41,
   "id": "f75919c6",
   "metadata": {},
   "outputs": [],
   "source": [
    "from sklearn.metrics import mean_absolute_error\n",
    "# steps for pipeline \n",
    "steps = [('Preprocessor', preprocessor),('model', model)]\n",
    "#creating pipeline\n",
    "my_pipeline = Pipeline(steps)"
   ]
  },
  {
   "cell_type": "code",
   "execution_count": 42,
   "id": "38fe7751",
   "metadata": {},
   "outputs": [],
   "source": [
    "#preprocessing of training data, fit model\n",
    "my_pipeline.fit(X_train,y_train)\n",
    "\n",
    "#preprocessing of validation data, get predictions.\n",
    "preds = my_pipeline.predict(X_valid)"
   ]
  },
  {
   "cell_type": "code",
   "execution_count": 43,
   "id": "2f2118fb",
   "metadata": {},
   "outputs": [
    {
     "name": "stdout",
     "output_type": "stream",
     "text": [
      "mean_absolute_error 160679.18917034855\n"
     ]
    }
   ],
   "source": [
    "print('mean_absolute_error', mean_absolute_error(y_valid, preds))"
   ]
  },
  {
   "cell_type": "code",
   "execution_count": null,
   "id": "42b2b406",
   "metadata": {},
   "outputs": [],
   "source": []
  }
 ],
 "metadata": {
  "kernelspec": {
   "display_name": "Python 3 (ipykernel)",
   "language": "python",
   "name": "python3"
  },
  "language_info": {
   "codemirror_mode": {
    "name": "ipython",
    "version": 3
   },
   "file_extension": ".py",
   "mimetype": "text/x-python",
   "name": "python",
   "nbconvert_exporter": "python",
   "pygments_lexer": "ipython3",
   "version": "3.8.11"
  }
 },
 "nbformat": 4,
 "nbformat_minor": 5
}
