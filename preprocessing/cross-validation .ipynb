{
 "cells": [
  {
   "cell_type": "markdown",
   "id": "656b4907",
   "metadata": {},
   "source": [
    "<h1>cross-validation</h1> \n",
    "\n",
    "  <p>used for the assessment of how the results of statistical analysis will generalize to an independent data set.</p>"
   ]
  },
  {
   "cell_type": "code",
   "execution_count": 41,
   "id": "79eed1e1",
   "metadata": {},
   "outputs": [],
   "source": [
    "import pandas as pd\n",
    "\n",
    "from sklearn.model_selection import train_test_split\n",
    "\n",
    "data = pd.read_csv(\"melb_data.csv\")\n",
    "#data.columns\n",
    "cols_to_use = ['Rooms', 'Distance', 'Landsize','BuildingArea','YearBuilt']\n",
    "# it is preferable that the number of cols is small when using cross_validation.\n",
    "X=data[cols_to_use]\n",
    "y=data.Price"
   ]
  },
  {
   "cell_type": "markdown",
   "id": "10058d7c",
   "metadata": {},
   "source": [
    "<p> cross - validation is efficient when data size is small.</p>"
   ]
  },
  {
   "cell_type": "code",
   "execution_count": 42,
   "id": "07f7c1ab",
   "metadata": {},
   "outputs": [],
   "source": [
    "import sklearn\n",
    "from sklearn.ensemble import RandomForestRegressor\n",
    "from sklearn.impute import SimpleImputer\n",
    "from sklearn.preprocessing import OneHotEncoder\n",
    "from sklearn.pipeline import Pipeline\n",
    "\n",
    "my_pipeline=Pipeline(steps=[\n",
    "    (\"imputer\", SimpleImputer()),\n",
    "    # for dealing with missing values\n",
    "    #missing_value ---- default =np.nan\n",
    "    # strategy = default = 'mean'\n",
    "    (\"model\",RandomForestRegressor(n_estimators= 50, random_state=0))\n",
    "    #model\n",
    "])\n",
    "\n",
    "\n",
    "# we do not use OneHotEncoder because the data does not include categorical variable."
   ]
  },
  {
   "cell_type": "markdown",
   "id": "8879cbf5",
   "metadata": {},
   "source": [
    "<p>sklearn has <b>cross-val_score()</b> function, and this function has paramter for the number of folds."
   ]
  },
  {
   "cell_type": "code",
   "execution_count": 43,
   "id": "adf77b48",
   "metadata": {},
   "outputs": [
    {
     "name": "stdout",
     "output_type": "stream",
     "text": [
      "cv =  2 292805.4823465382\n",
      "cv =  3 294846.1550120387\n",
      "cv =  4 281002.70680618606\n",
      "cv =  5 277707.3795913405\n"
     ]
    }
   ],
   "source": [
    "from sklearn.model_selection import cross_val_score\n",
    "for i in range(4):\n",
    "    scores = -1* cross_val_score(my_pipeline, X, y, cv=i+2, scoring = 'neg_mean_absolute_error')\n",
    "    print(\"cv = \",i+2,scores.mean())"
   ]
  },
  {
   "cell_type": "markdown",
   "id": "0d14042e",
   "metadata": {},
   "source": [
    "<h1>cross_val_score</h1>\n",
    "<h2>X, y </h2>\n",
    "we do not split these into train and test\n",
    "<h2>cv</h2> \n",
    "the number of folds<br>default(None) sets cv to 5 \n",
    "<h2>scoring</h2>\n",
    "the way of assesment<br> sklearn.metrics.SCORERS.keys() tell us all way\n",
    "\n"
   ]
  }
 ],
 "metadata": {
  "kernelspec": {
   "display_name": "Python 3 (ipykernel)",
   "language": "python",
   "name": "python3"
  },
  "language_info": {
   "codemirror_mode": {
    "name": "ipython",
    "version": 3
   },
   "file_extension": ".py",
   "mimetype": "text/x-python",
   "name": "python",
   "nbconvert_exporter": "python",
   "pygments_lexer": "ipython3",
   "version": "3.8.11"
  }
 },
 "nbformat": 4,
 "nbformat_minor": 5
}
